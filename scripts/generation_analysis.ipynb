{
 "cells": [
  {
   "cell_type": "code",
   "execution_count": null,
   "metadata": {},
   "outputs": [],
   "source": [
    "# Copyright (C) 2024 Istituto Italiano di Tecnologia.  All rights reserved.\n",
    "#\n",
    "# This work is licensed under the LICENSE file \n",
    "# located at the root directory."
   ]
  },
  {
   "cell_type": "code",
   "execution_count": 1,
   "metadata": {},
   "outputs": [],
   "source": [
    "import sys\n",
    "import os\n",
    "from pathlib import Path\n",
    "import pandas as pd\n",
    "from matplotlib import pyplot as plt\n",
    "\n",
    "from configs.datasets.conconchi import Data\n",
    "\n",
    "os.chdir('..')\n",
    "os.chdir = lambda x: None"
   ]
  },
  {
   "cell_type": "code",
   "execution_count": 4,
   "metadata": {},
   "outputs": [],
   "source": [
    "exp_dir = Path('logs/[dir name]')\n",
    "df = pd.read_csv(exp_dir / 'results.csv', sep=';')"
   ]
  },
  {
   "cell_type": "code",
   "execution_count": 25,
   "metadata": {},
   "outputs": [],
   "source": [
    "cn = Data.LearnDS().concepts_names\n",
    "df['CHIMERA'] = df.CONCEPTS.apply(lambda x: cn.loc[str(x), 'chimera'])\n",
    "\n",
    "metrics = ['Concept', 'Context', 'Density', 'Coverage']"
   ]
  },
  {
   "cell_type": "code",
   "execution_count": null,
   "metadata": {},
   "outputs": [],
   "source": [
    "df.groupby('CHIMERA')[metrics].mean()"
   ]
  }
 ],
 "metadata": {
  "kernelspec": {
   "display_name": "vlpers",
   "language": "python",
   "name": "python3"
  },
  "language_info": {
   "codemirror_mode": {
    "name": "ipython",
    "version": 3
   },
   "file_extension": ".py",
   "mimetype": "text/x-python",
   "name": "python",
   "nbconvert_exporter": "python",
   "pygments_lexer": "ipython3",
   "version": "3.10.11"
  },
  "orig_nbformat": 4
 },
 "nbformat": 4,
 "nbformat_minor": 2
}
